{
  "nbformat": 4,
  "nbformat_minor": 0,
  "metadata": {
    "colab": {
      "name": "Copia de Copia Vacía de Variación.ipynb_Completo",
      "provenance": [],
      "include_colab_link": true
    },
    "kernelspec": {
      "name": "ir",
      "display_name": "R"
    },
    "language_info": {
      "name": "R"
    }
  },
  "cells": [
    {
      "cell_type": "markdown",
      "metadata": {
        "id": "view-in-github",
        "colab_type": "text"
      },
      "source": [
        "<a href=\"https://colab.research.google.com/github/MayraDemoss/Descriptiva/blob/main/Variaci%C3%B3n.ipynb\" target=\"_parent\"><img src=\"https://colab.research.google.com/assets/colab-badge.svg\" alt=\"Open In Colab\"/></a>"
      ]
    },
    {
      "cell_type": "markdown",
      "metadata": {
        "id": "ADe89Sq_Bp8z"
      },
      "source": [
        "# 2. Dispersión, variabilidad o heterogeneidad\n",
        "\n",
        "Estudiar la distribución de los valores de la serie, analizando si estos se encuentran más o menos concentrados, o más o menos dispersos. \n",
        "\n",
        "![tinystats.github.io](https://tinystats.github.io/teacups-giraffes-and-statistics/images/04_variance/giraffe_variance2.jpg)\n",
        "\n",
        "***\n",
        "> ¿Qué tan homogeneas son las exhalaciones del geyser Old Faithful?\n",
        "***\n",
        "Existen diversas medidas de dispersión, entre las más utilizadas podemos destacar las siguientes:\n",
        "\n",
        "## Amplitud.\n",
        "Es la medida de dispersión más fácil de obtener. Se obtiene hallando la diferencia entre la observación mayor y la menor (el valor máximo menos el valor mínimo). La amplitud es una medida muy influenciada por los valores extremos y por lo tanto puede dar una impresión falsa sobre los valores reales de la distribución.\n",
        "\n",
        "\n"
      ]
    },
    {
      "cell_type": "code",
      "metadata": {
        "colab": {
          "base_uri": "https://localhost:8080/",
          "height": 120
        },
        "id": "Lqv38PYR0q7M",
        "outputId": "a475625d-343b-485b-b2f7-3760ca793717"
      },
      "source": [
        "# La amplitud del tiempo que tardan las exhalaciones y el  tiempo entre exhalaciones\n",
        "max(faithful$eruptions)-min(faithful$eruptions)   \n",
        "max(faithful$waiting)-min(faithful$waiting)   \n",
        "\n",
        "# la función range proporciona el mínimo y el máximo\n",
        "range(faithful$eruptions)\n",
        "range(faithful$waiting)\n",
        "\n",
        "# diferencia\n",
        "diff(range(faithful$eruptions))\n",
        "diff(range(faithful$waiting))\n"
      ],
      "execution_count": null,
      "outputs": [
        {
          "output_type": "display_data",
          "data": {
            "text/plain": [
              "[1] 3.5"
            ],
            "text/latex": "3.5",
            "text/markdown": "3.5",
            "text/html": [
              "3.5"
            ]
          },
          "metadata": {}
        },
        {
          "output_type": "display_data",
          "data": {
            "text/plain": [
              "[1] 53"
            ],
            "text/latex": "53",
            "text/markdown": "53",
            "text/html": [
              "53"
            ]
          },
          "metadata": {}
        },
        {
          "output_type": "display_data",
          "data": {
            "text/plain": [
              "[1] 1.6 5.1"
            ],
            "text/latex": "\\begin{enumerate*}\n\\item 1.6\n\\item 5.1\n\\end{enumerate*}\n",
            "text/markdown": "1. 1.6\n2. 5.1\n\n\n",
            "text/html": [
              "<style>\n",
              ".list-inline {list-style: none; margin:0; padding: 0}\n",
              ".list-inline>li {display: inline-block}\n",
              ".list-inline>li:not(:last-child)::after {content: \"\\00b7\"; padding: 0 .5ex}\n",
              "</style>\n",
              "<ol class=list-inline><li>1.6</li><li>5.1</li></ol>\n"
            ]
          },
          "metadata": {}
        },
        {
          "output_type": "display_data",
          "data": {
            "text/plain": [
              "[1] 43 96"
            ],
            "text/latex": "\\begin{enumerate*}\n\\item 43\n\\item 96\n\\end{enumerate*}\n",
            "text/markdown": "1. 43\n2. 96\n\n\n",
            "text/html": [
              "<style>\n",
              ".list-inline {list-style: none; margin:0; padding: 0}\n",
              ".list-inline>li {display: inline-block}\n",
              ".list-inline>li:not(:last-child)::after {content: \"\\00b7\"; padding: 0 .5ex}\n",
              "</style>\n",
              "<ol class=list-inline><li>43</li><li>96</li></ol>\n"
            ]
          },
          "metadata": {}
        },
        {
          "output_type": "display_data",
          "data": {
            "text/plain": [
              "[1] 3.5"
            ],
            "text/latex": "3.5",
            "text/markdown": "3.5",
            "text/html": [
              "3.5"
            ]
          },
          "metadata": {}
        },
        {
          "output_type": "display_data",
          "data": {
            "text/plain": [
              "[1] 53"
            ],
            "text/latex": "53",
            "text/markdown": "53",
            "text/html": [
              "53"
            ]
          },
          "metadata": {}
        }
      ]
    },
    {
      "cell_type": "markdown",
      "metadata": {
        "id": "tox79R0A1hOb"
      },
      "source": [
        "Interpretación:"
      ]
    },
    {
      "cell_type": "markdown",
      "metadata": {
        "id": "aJ2FcrAP0XbN"
      },
      "source": [
        "## Varianza.\n",
        "Mide la distancia (cuadrada) existente entre los valores de la serie y la media. Mientras más se aproxima a cero, más concentrados están los valores de la serie alrededor de la media. Por el contrario, mientras mayor sea la varianza, más dispersos están. El símbolo para representar a la varianza muestral es\n",
        "$s^2$ y para la varianza poblacional $\\sigma^2$.\n",
        "\n",
        "$$s^2=\\frac{1}{n-1}{\\sum_{i=1}^{n}\\left(x_i-\\bar{x}\\right)^2}$$\n",
        "\n",
        "$$\\sigma^2=\\frac{1}{N}{\\sum_{i=1}^{N}\\left(x_i-\\mu\\right)^2}$$\n",
        "\n",
        "## Desviación estándar o típica.\n",
        "Se calcula como raíz cuadrada de la varianza.\n",
        "\n",
        "Nótese que ni la varianza ni la desviación estándar pueden ser negativas y son cero sólo cuando todos los datos tienen el mismo valor que no es otro que el valor de la media.\n"
      ]
    },
    {
      "cell_type": "code",
      "metadata": {
        "id": "z1bXP4B9cSbW",
        "colab": {
          "base_uri": "https://localhost:8080/",
          "height": 68
        },
        "outputId": "5be4cc45-4d73-4538-8ee5-2bbc4d1f8f18"
      },
      "source": [
        "# La varianza de las exhalaciones y el tiempo entre exhalaciones\n",
        "var(faithful$eruptions)\n",
        "var(faithful$waiting)\n",
        "\n",
        "mean(faithful$eruptions)"
      ],
      "execution_count": null,
      "outputs": [
        {
          "output_type": "display_data",
          "data": {
            "text/plain": [
              "[1] 1.302728"
            ],
            "text/latex": "1.30272833284947",
            "text/markdown": "1.30272833284947",
            "text/html": [
              "1.30272833284947"
            ]
          },
          "metadata": {}
        },
        {
          "output_type": "display_data",
          "data": {
            "text/plain": [
              "[1] 184.8233"
            ],
            "text/latex": "184.823312350771",
            "text/markdown": "184.823312350771",
            "text/html": [
              "184.823312350771"
            ]
          },
          "metadata": {}
        },
        {
          "output_type": "display_data",
          "data": {
            "text/plain": [
              "[1] 3.487783"
            ],
            "text/latex": "3.48778308823529",
            "text/markdown": "3.48778308823529",
            "text/html": [
              "3.48778308823529"
            ]
          },
          "metadata": {}
        }
      ]
    },
    {
      "cell_type": "markdown",
      "metadata": {
        "id": "Wf8_a4LNjZWf"
      },
      "source": [
        "Interpretación: Los tiempos que tarda una exhalación se alejan en promedio 1.3 seg^2 de 3.49 seg\n"
      ]
    },
    {
      "cell_type": "code",
      "metadata": {
        "colab": {
          "base_uri": "https://localhost:8080/",
          "height": 51
        },
        "id": "TByb6Mh556eX",
        "outputId": "e4441aff-2401-4846-c8f4-367580026fdf"
      },
      "source": [
        "# desviación estándar\n",
        "sd(faithful$eruptions)\n",
        "sd(faithful$waiting)\n"
      ],
      "execution_count": null,
      "outputs": [
        {
          "output_type": "display_data",
          "data": {
            "text/plain": [
              "[1] 1.141371"
            ],
            "text/latex": "1.14137125110521",
            "text/markdown": "1.14137125110521",
            "text/html": [
              "1.14137125110521"
            ]
          },
          "metadata": {}
        },
        {
          "output_type": "display_data",
          "data": {
            "text/plain": [
              "[1] 13.59497"
            ],
            "text/latex": "13.5949737899994",
            "text/markdown": "13.5949737899994",
            "text/html": [
              "13.5949737899994"
            ]
          },
          "metadata": {}
        }
      ]
    },
    {
      "cell_type": "markdown",
      "metadata": {
        "id": "ZykjYQvo6GJa"
      },
      "source": [
        "Los tiempos que tardan las exhalaciones se alejan en promedio 1.14 seg de 3.49 seg"
      ]
    },
    {
      "cell_type": "markdown",
      "metadata": {
        "id": "fr7nj0bucFM9"
      },
      "source": [
        "\n",
        "* Se puede usar a la amplitud para estimar a la desviación estándar ([Range Rule for Standard Deviation](https://scholar.rose-hulman.edu/cgi/viewcontent.cgi?article=1211&context=rhumj)).\n",
        "\n",
        "* [Estimación de la media y de la desviación estándar a partir de la amplitud](https://bmcmedresmethodol.biomedcentral.com/articles/10.1186/1471-2288-14-135)\n",
        "\n",
        "* [Use of the Range Instead of the Standard Deviation](https://www.jstor.org/stable/2281203).\n"
      ]
    },
    {
      "cell_type": "code",
      "metadata": {
        "id": "fl7Dj_QO44_z",
        "colab": {
          "base_uri": "https://localhost:8080/",
          "height": 51
        },
        "outputId": "4058f640-0052-4310-acaf-f9964647a6c8"
      },
      "source": [
        "# Aproximaciones de la desviación estándar\n",
        "# estimación de la desviación estándar\n",
        "diff(range(faithful$eruptions)) / 4\n",
        "diff(range(faithful$waiting)) / 4\n",
        "\n"
      ],
      "execution_count": null,
      "outputs": [
        {
          "output_type": "display_data",
          "data": {
            "text/plain": [
              "[1] 0.875"
            ],
            "text/latex": "0.875",
            "text/markdown": "0.875",
            "text/html": [
              "0.875"
            ]
          },
          "metadata": {}
        },
        {
          "output_type": "display_data",
          "data": {
            "text/plain": [
              "[1] 13.25"
            ],
            "text/latex": "13.25",
            "text/markdown": "13.25",
            "text/html": [
              "13.25"
            ]
          },
          "metadata": {}
        }
      ]
    },
    {
      "cell_type": "code",
      "metadata": {
        "colab": {
          "base_uri": "https://localhost:8080/",
          "height": 68
        },
        "id": "xOjoPUt0FVPD",
        "outputId": "4dabf6eb-2de7-41e5-9ebb-2d94ee2c62c5"
      },
      "source": [
        "# aproximación de la S a partir de la amplitu en los datos de \n",
        "# glucosa\n",
        "glucosa <- read.csv('glucosa.csv')\n",
        "\n",
        "diff(range(glucosa$glucosamgpordL))/4\n",
        "diff(range(glucosa$glucosamgpordL))/6\n",
        "\n",
        "sd(glucosa$glucosamgpordL)\n",
        "\n",
        "\n"
      ],
      "execution_count": null,
      "outputs": [
        {
          "output_type": "display_data",
          "data": {
            "text/plain": [
              "[1] 92.25"
            ],
            "text/latex": "92.25",
            "text/markdown": "92.25",
            "text/html": [
              "92.25"
            ]
          },
          "metadata": {}
        },
        {
          "output_type": "display_data",
          "data": {
            "text/plain": [
              "[1] 61.5"
            ],
            "text/latex": "61.5",
            "text/markdown": "61.5",
            "text/html": [
              "61.5"
            ]
          },
          "metadata": {}
        },
        {
          "output_type": "display_data",
          "data": {
            "text/plain": [
              "[1] 57.76527"
            ],
            "text/latex": "57.7652695079621",
            "text/markdown": "57.7652695079621",
            "text/html": [
              "57.7652695079621"
            ]
          },
          "metadata": {}
        }
      ]
    },
    {
      "cell_type": "markdown",
      "metadata": {
        "id": "nR94np8s3W0j"
      },
      "source": [
        "# La [regla empirica](https://online.stat.psu.edu/stat200/lesson/2/2.2/2.2.7)\n",
        "<center>\n",
        "\n",
        "![](https://upload.wikimedia.org/wikipedia/commons/thumb/2/22/Empirical_rule_histogram.svg/553px-Empirical_rule_histogram.svg.png)\n",
        "\n",
        "</center>"
      ]
    },
    {
      "cell_type": "code",
      "metadata": {
        "id": "HbNDLI4k5ERv",
        "colab": {
          "base_uri": "https://localhost:8080/",
          "height": 69
        },
        "outputId": "45f26146-61b1-49f1-a418-6bca615b30ec"
      },
      "source": [
        "# Regla empirica\n",
        "\n",
        "mean(faithful$eruptions)-3*sd(faithful$eruptions)\n",
        "mean(faithful$eruptions)+3*sd(faithful$eruptions)\n",
        "\n"
      ],
      "execution_count": null,
      "outputs": [
        {
          "output_type": "display_data",
          "data": {
            "text/plain": [
              "[1] 0.06366933"
            ],
            "text/latex": "0.0636693349196689",
            "text/markdown": "0.0636693349196689",
            "text/html": [
              "0.0636693349196689"
            ]
          },
          "metadata": {
            "tags": []
          }
        },
        {
          "output_type": "display_data",
          "data": {
            "text/plain": [
              "[1] 6.911897"
            ],
            "text/latex": "6.91189684155092",
            "text/markdown": "6.91189684155092",
            "text/html": [
              "6.91189684155092"
            ]
          },
          "metadata": {
            "tags": []
          }
        },
        {
          "output_type": "display_data",
          "data": {
            "text/plain": [
              "[1] 1.6 5.1"
            ],
            "text/latex": "\\begin{enumerate*}\n\\item 1.6\n\\item 5.1\n\\end{enumerate*}\n",
            "text/markdown": "1. 1.6\n2. 5.1\n\n\n",
            "text/html": [
              "<style>\n",
              ".list-inline {list-style: none; margin:0; padding: 0}\n",
              ".list-inline>li {display: inline-block}\n",
              ".list-inline>li:not(:last-child)::after {content: \"\\00b7\"; padding: 0 .5ex}\n",
              "</style>\n",
              "<ol class=list-inline><li>1.6</li><li>5.1</li></ol>\n"
            ]
          },
          "metadata": {
            "tags": []
          }
        }
      ]
    },
    {
      "cell_type": "markdown",
      "metadata": {
        "id": "qzyEWgQ5Cp7q"
      },
      "source": [
        "Más del 99% de las exhalaciones tienen tiempos de duración entre 0.06 y 6.9 seg\n"
      ]
    },
    {
      "cell_type": "code",
      "metadata": {
        "colab": {
          "base_uri": "https://localhost:8080/",
          "height": 446
        },
        "id": "vyjJ6ckSC5ZS",
        "outputId": "332dd5b6-f56a-4f9b-daa7-41f87f0f39f9"
      },
      "source": [
        "# En total hay 272 datos\n",
        "# dim(faithful)\n",
        "empirico <- faithful[faithful$eruptions >= 0.06 & faithful$eruptions <= 6.9, ]\n",
        "#empirico\n",
        "\n",
        "272/272*100   # si se cumple la regla empirica\n",
        "\n",
        "# sin generar un dataframe\n",
        "faithful$eruptions >= 0.06 & faithful$eruptions <= 6.9\n",
        "\n",
        "sum(faithful$eruptions >= 0.06 & faithful$eruptions <= 6.9) / 272"
      ],
      "execution_count": null,
      "outputs": [
        {
          "output_type": "display_data",
          "data": {
            "text/plain": [
              "[1] 100"
            ],
            "text/latex": "100",
            "text/markdown": "100",
            "text/html": [
              "100"
            ]
          },
          "metadata": {}
        },
        {
          "output_type": "display_data",
          "data": {
            "text/plain": [
              "  [1] TRUE TRUE TRUE TRUE TRUE TRUE TRUE TRUE TRUE TRUE TRUE TRUE TRUE TRUE TRUE\n",
              " [16] TRUE TRUE TRUE TRUE TRUE TRUE TRUE TRUE TRUE TRUE TRUE TRUE TRUE TRUE TRUE\n",
              " [31] TRUE TRUE TRUE TRUE TRUE TRUE TRUE TRUE TRUE TRUE TRUE TRUE TRUE TRUE TRUE\n",
              " [46] TRUE TRUE TRUE TRUE TRUE TRUE TRUE TRUE TRUE TRUE TRUE TRUE TRUE TRUE TRUE\n",
              " [61] TRUE TRUE TRUE TRUE TRUE TRUE TRUE TRUE TRUE TRUE TRUE TRUE TRUE TRUE TRUE\n",
              " [76] TRUE TRUE TRUE TRUE TRUE TRUE TRUE TRUE TRUE TRUE TRUE TRUE TRUE TRUE TRUE\n",
              " [91] TRUE TRUE TRUE TRUE TRUE TRUE TRUE TRUE TRUE TRUE TRUE TRUE TRUE TRUE TRUE\n",
              "[106] TRUE TRUE TRUE TRUE TRUE TRUE TRUE TRUE TRUE TRUE TRUE TRUE TRUE TRUE TRUE\n",
              "[121] TRUE TRUE TRUE TRUE TRUE TRUE TRUE TRUE TRUE TRUE TRUE TRUE TRUE TRUE TRUE\n",
              "[136] TRUE TRUE TRUE TRUE TRUE TRUE TRUE TRUE TRUE TRUE TRUE TRUE TRUE TRUE TRUE\n",
              "[151] TRUE TRUE TRUE TRUE TRUE TRUE TRUE TRUE TRUE TRUE TRUE TRUE TRUE TRUE TRUE\n",
              "[166] TRUE TRUE TRUE TRUE TRUE TRUE TRUE TRUE TRUE TRUE TRUE TRUE TRUE TRUE TRUE\n",
              "[181] TRUE TRUE TRUE TRUE TRUE TRUE TRUE TRUE TRUE TRUE TRUE TRUE TRUE TRUE TRUE\n",
              "[196] TRUE TRUE TRUE TRUE TRUE TRUE TRUE TRUE TRUE TRUE TRUE TRUE TRUE TRUE TRUE\n",
              "[211] TRUE TRUE TRUE TRUE TRUE TRUE TRUE TRUE TRUE TRUE TRUE TRUE TRUE TRUE TRUE\n",
              "[226] TRUE TRUE TRUE TRUE TRUE TRUE TRUE TRUE TRUE TRUE TRUE TRUE TRUE TRUE TRUE\n",
              "[241] TRUE TRUE TRUE TRUE TRUE TRUE TRUE TRUE TRUE TRUE TRUE TRUE TRUE TRUE TRUE\n",
              "[256] TRUE TRUE TRUE TRUE TRUE TRUE TRUE TRUE TRUE TRUE TRUE TRUE TRUE TRUE TRUE\n",
              "[271] TRUE TRUE"
            ],
            "text/latex": "\\begin{enumerate*}\n\\item TRUE\n\\item TRUE\n\\item TRUE\n\\item TRUE\n\\item TRUE\n\\item TRUE\n\\item TRUE\n\\item TRUE\n\\item TRUE\n\\item TRUE\n\\item TRUE\n\\item TRUE\n\\item TRUE\n\\item TRUE\n\\item TRUE\n\\item TRUE\n\\item TRUE\n\\item TRUE\n\\item TRUE\n\\item TRUE\n\\item TRUE\n\\item TRUE\n\\item TRUE\n\\item TRUE\n\\item TRUE\n\\item TRUE\n\\item TRUE\n\\item TRUE\n\\item TRUE\n\\item TRUE\n\\item TRUE\n\\item TRUE\n\\item TRUE\n\\item TRUE\n\\item TRUE\n\\item TRUE\n\\item TRUE\n\\item TRUE\n\\item TRUE\n\\item TRUE\n\\item TRUE\n\\item TRUE\n\\item TRUE\n\\item TRUE\n\\item TRUE\n\\item TRUE\n\\item TRUE\n\\item TRUE\n\\item TRUE\n\\item TRUE\n\\item TRUE\n\\item TRUE\n\\item TRUE\n\\item TRUE\n\\item TRUE\n\\item TRUE\n\\item TRUE\n\\item TRUE\n\\item TRUE\n\\item TRUE\n\\item TRUE\n\\item TRUE\n\\item TRUE\n\\item TRUE\n\\item TRUE\n\\item TRUE\n\\item TRUE\n\\item TRUE\n\\item TRUE\n\\item TRUE\n\\item TRUE\n\\item TRUE\n\\item TRUE\n\\item TRUE\n\\item TRUE\n\\item TRUE\n\\item TRUE\n\\item TRUE\n\\item TRUE\n\\item TRUE\n\\item TRUE\n\\item TRUE\n\\item TRUE\n\\item TRUE\n\\item TRUE\n\\item TRUE\n\\item TRUE\n\\item TRUE\n\\item TRUE\n\\item TRUE\n\\item TRUE\n\\item TRUE\n\\item TRUE\n\\item TRUE\n\\item TRUE\n\\item TRUE\n\\item TRUE\n\\item TRUE\n\\item TRUE\n\\item TRUE\n\\item TRUE\n\\item TRUE\n\\item TRUE\n\\item TRUE\n\\item TRUE\n\\item TRUE\n\\item TRUE\n\\item TRUE\n\\item TRUE\n\\item TRUE\n\\item TRUE\n\\item TRUE\n\\item TRUE\n\\item TRUE\n\\item TRUE\n\\item TRUE\n\\item TRUE\n\\item TRUE\n\\item TRUE\n\\item TRUE\n\\item TRUE\n\\item TRUE\n\\item TRUE\n\\item TRUE\n\\item TRUE\n\\item TRUE\n\\item TRUE\n\\item TRUE\n\\item TRUE\n\\item TRUE\n\\item TRUE\n\\item TRUE\n\\item TRUE\n\\item TRUE\n\\item TRUE\n\\item TRUE\n\\item TRUE\n\\item TRUE\n\\item TRUE\n\\item TRUE\n\\item TRUE\n\\item TRUE\n\\item TRUE\n\\item TRUE\n\\item TRUE\n\\item TRUE\n\\item TRUE\n\\item TRUE\n\\item TRUE\n\\item TRUE\n\\item TRUE\n\\item TRUE\n\\item TRUE\n\\item TRUE\n\\item TRUE\n\\item TRUE\n\\item TRUE\n\\item TRUE\n\\item TRUE\n\\item TRUE\n\\item TRUE\n\\item TRUE\n\\item TRUE\n\\item TRUE\n\\item TRUE\n\\item TRUE\n\\item TRUE\n\\item TRUE\n\\item TRUE\n\\item TRUE\n\\item TRUE\n\\item TRUE\n\\item TRUE\n\\item TRUE\n\\item TRUE\n\\item TRUE\n\\item TRUE\n\\item TRUE\n\\item TRUE\n\\item TRUE\n\\item TRUE\n\\item TRUE\n\\item TRUE\n\\item TRUE\n\\item TRUE\n\\item TRUE\n\\item TRUE\n\\item TRUE\n\\item TRUE\n\\item TRUE\n\\item TRUE\n\\item TRUE\n\\item TRUE\n\\item TRUE\n\\item TRUE\n\\item TRUE\n\\item TRUE\n\\item TRUE\n\\item TRUE\n\\item TRUE\n\\item TRUE\n\\item TRUE\n\\item TRUE\n\\item TRUE\n\\item TRUE\n\\item TRUE\n\\item TRUE\n\\item TRUE\n\\item TRUE\n\\item TRUE\n\\item TRUE\n\\item TRUE\n\\item TRUE\n\\item TRUE\n\\item TRUE\n\\item TRUE\n\\item TRUE\n\\item TRUE\n\\item TRUE\n\\item TRUE\n\\item TRUE\n\\item TRUE\n\\item TRUE\n\\item TRUE\n\\item TRUE\n\\item TRUE\n\\item TRUE\n\\item TRUE\n\\item TRUE\n\\item TRUE\n\\item TRUE\n\\item TRUE\n\\item TRUE\n\\item TRUE\n\\item TRUE\n\\item TRUE\n\\item TRUE\n\\item TRUE\n\\item TRUE\n\\item TRUE\n\\item TRUE\n\\item TRUE\n\\item TRUE\n\\item TRUE\n\\item TRUE\n\\item TRUE\n\\item TRUE\n\\item TRUE\n\\item TRUE\n\\item TRUE\n\\item TRUE\n\\item TRUE\n\\item TRUE\n\\item TRUE\n\\item TRUE\n\\item TRUE\n\\item TRUE\n\\item TRUE\n\\item TRUE\n\\item TRUE\n\\item TRUE\n\\item TRUE\n\\item TRUE\n\\item TRUE\n\\item TRUE\n\\item TRUE\n\\item TRUE\n\\item TRUE\n\\item TRUE\n\\item TRUE\n\\item TRUE\n\\item TRUE\n\\end{enumerate*}\n",
            "text/markdown": "1. TRUE\n2. TRUE\n3. TRUE\n4. TRUE\n5. TRUE\n6. TRUE\n7. TRUE\n8. TRUE\n9. TRUE\n10. TRUE\n11. TRUE\n12. TRUE\n13. TRUE\n14. TRUE\n15. TRUE\n16. TRUE\n17. TRUE\n18. TRUE\n19. TRUE\n20. TRUE\n21. TRUE\n22. TRUE\n23. TRUE\n24. TRUE\n25. TRUE\n26. TRUE\n27. TRUE\n28. TRUE\n29. TRUE\n30. TRUE\n31. TRUE\n32. TRUE\n33. TRUE\n34. TRUE\n35. TRUE\n36. TRUE\n37. TRUE\n38. TRUE\n39. TRUE\n40. TRUE\n41. TRUE\n42. TRUE\n43. TRUE\n44. TRUE\n45. TRUE\n46. TRUE\n47. TRUE\n48. TRUE\n49. TRUE\n50. TRUE\n51. TRUE\n52. TRUE\n53. TRUE\n54. TRUE\n55. TRUE\n56. TRUE\n57. TRUE\n58. TRUE\n59. TRUE\n60. TRUE\n61. TRUE\n62. TRUE\n63. TRUE\n64. TRUE\n65. TRUE\n66. TRUE\n67. TRUE\n68. TRUE\n69. TRUE\n70. TRUE\n71. TRUE\n72. TRUE\n73. TRUE\n74. TRUE\n75. TRUE\n76. TRUE\n77. TRUE\n78. TRUE\n79. TRUE\n80. TRUE\n81. TRUE\n82. TRUE\n83. TRUE\n84. TRUE\n85. TRUE\n86. TRUE\n87. TRUE\n88. TRUE\n89. TRUE\n90. TRUE\n91. TRUE\n92. TRUE\n93. TRUE\n94. TRUE\n95. TRUE\n96. TRUE\n97. TRUE\n98. TRUE\n99. TRUE\n100. TRUE\n101. TRUE\n102. TRUE\n103. TRUE\n104. TRUE\n105. TRUE\n106. TRUE\n107. TRUE\n108. TRUE\n109. TRUE\n110. TRUE\n111. TRUE\n112. TRUE\n113. TRUE\n114. TRUE\n115. TRUE\n116. TRUE\n117. TRUE\n118. TRUE\n119. TRUE\n120. TRUE\n121. TRUE\n122. TRUE\n123. TRUE\n124. TRUE\n125. TRUE\n126. TRUE\n127. TRUE\n128. TRUE\n129. TRUE\n130. TRUE\n131. TRUE\n132. TRUE\n133. TRUE\n134. TRUE\n135. TRUE\n136. TRUE\n137. TRUE\n138. TRUE\n139. TRUE\n140. TRUE\n141. TRUE\n142. TRUE\n143. TRUE\n144. TRUE\n145. TRUE\n146. TRUE\n147. TRUE\n148. TRUE\n149. TRUE\n150. TRUE\n151. TRUE\n152. TRUE\n153. TRUE\n154. TRUE\n155. TRUE\n156. TRUE\n157. TRUE\n158. TRUE\n159. TRUE\n160. TRUE\n161. TRUE\n162. TRUE\n163. TRUE\n164. TRUE\n165. TRUE\n166. TRUE\n167. TRUE\n168. TRUE\n169. TRUE\n170. TRUE\n171. TRUE\n172. TRUE\n173. TRUE\n174. TRUE\n175. TRUE\n176. TRUE\n177. TRUE\n178. TRUE\n179. TRUE\n180. TRUE\n181. TRUE\n182. TRUE\n183. TRUE\n184. TRUE\n185. TRUE\n186. TRUE\n187. TRUE\n188. TRUE\n189. TRUE\n190. TRUE\n191. TRUE\n192. TRUE\n193. TRUE\n194. TRUE\n195. TRUE\n196. TRUE\n197. TRUE\n198. TRUE\n199. TRUE\n200. TRUE\n201. TRUE\n202. TRUE\n203. TRUE\n204. TRUE\n205. TRUE\n206. TRUE\n207. TRUE\n208. TRUE\n209. TRUE\n210. TRUE\n211. TRUE\n212. TRUE\n213. TRUE\n214. TRUE\n215. TRUE\n216. TRUE\n217. TRUE\n218. TRUE\n219. TRUE\n220. TRUE\n221. TRUE\n222. TRUE\n223. TRUE\n224. TRUE\n225. TRUE\n226. TRUE\n227. TRUE\n228. TRUE\n229. TRUE\n230. TRUE\n231. TRUE\n232. TRUE\n233. TRUE\n234. TRUE\n235. TRUE\n236. TRUE\n237. TRUE\n238. TRUE\n239. TRUE\n240. TRUE\n241. TRUE\n242. TRUE\n243. TRUE\n244. TRUE\n245. TRUE\n246. TRUE\n247. TRUE\n248. TRUE\n249. TRUE\n250. TRUE\n251. TRUE\n252. TRUE\n253. TRUE\n254. TRUE\n255. TRUE\n256. TRUE\n257. TRUE\n258. TRUE\n259. TRUE\n260. TRUE\n261. TRUE\n262. TRUE\n263. TRUE\n264. TRUE\n265. TRUE\n266. TRUE\n267. TRUE\n268. TRUE\n269. TRUE\n270. TRUE\n271. TRUE\n272. TRUE\n\n\n",
            "text/html": [
              "<style>\n",
              ".list-inline {list-style: none; margin:0; padding: 0}\n",
              ".list-inline>li {display: inline-block}\n",
              ".list-inline>li:not(:last-child)::after {content: \"\\00b7\"; padding: 0 .5ex}\n",
              "</style>\n",
              "<ol class=list-inline><li>TRUE</li><li>TRUE</li><li>TRUE</li><li>TRUE</li><li>TRUE</li><li>TRUE</li><li>TRUE</li><li>TRUE</li><li>TRUE</li><li>TRUE</li><li>TRUE</li><li>TRUE</li><li>TRUE</li><li>TRUE</li><li>TRUE</li><li>TRUE</li><li>TRUE</li><li>TRUE</li><li>TRUE</li><li>TRUE</li><li>TRUE</li><li>TRUE</li><li>TRUE</li><li>TRUE</li><li>TRUE</li><li>TRUE</li><li>TRUE</li><li>TRUE</li><li>TRUE</li><li>TRUE</li><li>TRUE</li><li>TRUE</li><li>TRUE</li><li>TRUE</li><li>TRUE</li><li>TRUE</li><li>TRUE</li><li>TRUE</li><li>TRUE</li><li>TRUE</li><li>TRUE</li><li>TRUE</li><li>TRUE</li><li>TRUE</li><li>TRUE</li><li>TRUE</li><li>TRUE</li><li>TRUE</li><li>TRUE</li><li>TRUE</li><li>TRUE</li><li>TRUE</li><li>TRUE</li><li>TRUE</li><li>TRUE</li><li>TRUE</li><li>TRUE</li><li>TRUE</li><li>TRUE</li><li>TRUE</li><li>TRUE</li><li>TRUE</li><li>TRUE</li><li>TRUE</li><li>TRUE</li><li>TRUE</li><li>TRUE</li><li>TRUE</li><li>TRUE</li><li>TRUE</li><li>TRUE</li><li>TRUE</li><li>TRUE</li><li>TRUE</li><li>TRUE</li><li>TRUE</li><li>TRUE</li><li>TRUE</li><li>TRUE</li><li>TRUE</li><li>TRUE</li><li>TRUE</li><li>TRUE</li><li>TRUE</li><li>TRUE</li><li>TRUE</li><li>TRUE</li><li>TRUE</li><li>TRUE</li><li>TRUE</li><li>TRUE</li><li>TRUE</li><li>TRUE</li><li>TRUE</li><li>TRUE</li><li>TRUE</li><li>TRUE</li><li>TRUE</li><li>TRUE</li><li>TRUE</li><li>TRUE</li><li>TRUE</li><li>TRUE</li><li>TRUE</li><li>TRUE</li><li>TRUE</li><li>TRUE</li><li>TRUE</li><li>TRUE</li><li>TRUE</li><li>TRUE</li><li>TRUE</li><li>TRUE</li><li>TRUE</li><li>TRUE</li><li>TRUE</li><li>TRUE</li><li>TRUE</li><li>TRUE</li><li>TRUE</li><li>TRUE</li><li>TRUE</li><li>TRUE</li><li>TRUE</li><li>TRUE</li><li>TRUE</li><li>TRUE</li><li>TRUE</li><li>TRUE</li><li>TRUE</li><li>TRUE</li><li>TRUE</li><li>TRUE</li><li>TRUE</li><li>TRUE</li><li>TRUE</li><li>TRUE</li><li>TRUE</li><li>TRUE</li><li>TRUE</li><li>TRUE</li><li>TRUE</li><li>TRUE</li><li>TRUE</li><li>TRUE</li><li>TRUE</li><li>TRUE</li><li>TRUE</li><li>TRUE</li><li>TRUE</li><li>TRUE</li><li>TRUE</li><li>TRUE</li><li>TRUE</li><li>TRUE</li><li>TRUE</li><li>TRUE</li><li>TRUE</li><li>TRUE</li><li>TRUE</li><li>TRUE</li><li>TRUE</li><li>TRUE</li><li>TRUE</li><li>TRUE</li><li>TRUE</li><li>TRUE</li><li>TRUE</li><li>TRUE</li><li>TRUE</li><li>TRUE</li><li>TRUE</li><li>TRUE</li><li>TRUE</li><li>TRUE</li><li>TRUE</li><li>TRUE</li><li>TRUE</li><li>TRUE</li><li>TRUE</li><li>TRUE</li><li>TRUE</li><li>TRUE</li><li>TRUE</li><li>TRUE</li><li>TRUE</li><li>TRUE</li><li>TRUE</li><li>TRUE</li><li>TRUE</li><li>TRUE</li><li>TRUE</li><li>TRUE</li><li>TRUE</li><li>TRUE</li><li>TRUE</li><li>TRUE</li><li>TRUE</li><li>TRUE</li><li>TRUE</li><li>TRUE</li><li>TRUE</li><li>TRUE</li><li>TRUE</li><li>TRUE</li><li>TRUE</li><li>TRUE</li><li>TRUE</li><li>TRUE</li><li>TRUE</li><li>TRUE</li><li>TRUE</li><li>TRUE</li><li>TRUE</li><li>TRUE</li><li>TRUE</li><li>TRUE</li><li>TRUE</li><li>TRUE</li><li>TRUE</li><li>TRUE</li><li>TRUE</li><li>TRUE</li><li>TRUE</li><li>TRUE</li><li>TRUE</li><li>TRUE</li><li>TRUE</li><li>TRUE</li><li>TRUE</li><li>TRUE</li><li>TRUE</li><li>TRUE</li><li>TRUE</li><li>TRUE</li><li>TRUE</li><li>TRUE</li><li>TRUE</li><li>TRUE</li><li>TRUE</li><li>TRUE</li><li>TRUE</li><li>TRUE</li><li>TRUE</li><li>TRUE</li><li>TRUE</li><li>TRUE</li><li>TRUE</li><li>TRUE</li><li>TRUE</li><li>TRUE</li><li>TRUE</li><li>TRUE</li><li>TRUE</li><li>TRUE</li><li>TRUE</li><li>TRUE</li><li>TRUE</li><li>TRUE</li><li>TRUE</li><li>TRUE</li><li>TRUE</li><li>TRUE</li><li>TRUE</li><li>TRUE</li><li>TRUE</li><li>TRUE</li><li>TRUE</li><li>TRUE</li><li>TRUE</li><li>TRUE</li><li>TRUE</li></ol>\n"
            ]
          },
          "metadata": {}
        },
        {
          "output_type": "display_data",
          "data": {
            "text/plain": [
              "[1] 1"
            ],
            "text/latex": "1",
            "text/markdown": "1",
            "text/html": [
              "1"
            ]
          },
          "metadata": {}
        }
      ]
    },
    {
      "cell_type": "code",
      "metadata": {
        "colab": {
          "base_uri": "https://localhost:8080/",
          "height": 34
        },
        "id": "ceRRbVdpFZ5L",
        "outputId": "5121a742-20c4-4edd-c009-7d153e0ea8ed"
      },
      "source": [
        "# otra forma\n",
        "ecdf(faithful$eruptions)(6.91)-ecdf(faithful$eruptions)(.064)\n"
      ],
      "execution_count": null,
      "outputs": [
        {
          "output_type": "display_data",
          "data": {
            "text/plain": [
              "[1] 1"
            ],
            "text/latex": "1",
            "text/markdown": "1",
            "text/html": [
              "1"
            ]
          },
          "metadata": {}
        }
      ]
    },
    {
      "cell_type": "markdown",
      "metadata": {
        "id": "0NmRQSRp0yHc"
      },
      "source": [
        "\n",
        "## Amplitud intercuartil\n",
        "\n",
        "Es una medida resistente de variación,puesto que elimina al 25% de datos más pequeños y al 25% de los datos mas grandes mide la amplitud del 50% de los datos centrales. \n",
        "\n",
        "$$AIC=P_{0.75}-P_{0.25}$$\n",
        "\n",
        "## Desviación absoluta de la mediana\n",
        "\n",
        "Es la mediana de las desviaciónes absolutas de cada valor respecto a la mediana.\n",
        "\n"
      ]
    },
    {
      "cell_type": "code",
      "metadata": {
        "colab": {
          "base_uri": "https://localhost:8080/",
          "height": 51
        },
        "id": "DRbeCnOEGeF2",
        "outputId": "830ac4c4-f392-40d7-d2b8-03c3590be939"
      },
      "source": [
        "# amplitud intercuartil\n",
        "quantile(faithful$eruptions,c(.75,.25))\n",
        "\n",
        "abs(diff(quantile(faithful$eruptions,c(.75,.25))))\n"
      ],
      "execution_count": null,
      "outputs": [
        {
          "output_type": "display_data",
          "data": {
            "text/plain": [
              "    75%     25% \n",
              "4.45425 2.16275 "
            ],
            "text/latex": "\\begin{description*}\n\\item[75\\textbackslash{}\\%] 4.45425\n\\item[25\\textbackslash{}\\%] 2.16275\n\\end{description*}\n",
            "text/markdown": "75%\n:   4.4542525%\n:   2.16275\n\n",
            "text/html": [
              "<style>\n",
              ".dl-inline {width: auto; margin:0; padding: 0}\n",
              ".dl-inline>dt, .dl-inline>dd {float: none; width: auto; display: inline-block}\n",
              ".dl-inline>dt::after {content: \":\\0020\"; padding-right: .5ex}\n",
              ".dl-inline>dt:not(:first-of-type) {padding-left: .5ex}\n",
              "</style><dl class=dl-inline><dt>75%</dt><dd>4.45425</dd><dt>25%</dt><dd>2.16275</dd></dl>\n"
            ]
          },
          "metadata": {}
        },
        {
          "output_type": "display_data",
          "data": {
            "text/plain": [
              "   25% \n",
              "2.2915 "
            ],
            "text/latex": "\\textbf{25\\textbackslash{}\\%:} 2.2915",
            "text/markdown": "**25%:** 2.2915",
            "text/html": [
              "<strong>25%:</strong> 2.2915"
            ]
          },
          "metadata": {}
        }
      ]
    },
    {
      "cell_type": "code",
      "metadata": {
        "id": "XpAIixRRx9Uu",
        "colab": {
          "base_uri": "https://localhost:8080/",
          "height": 52
        },
        "outputId": "45c0fdee-e4a7-4979-d1ec-dcff65286475"
      },
      "source": [
        "median((abs(faithful$eruptions-median(faithful$eruptions))))\n",
        "\n",
        "median((abs(faithful$waiting-median(faithful$waiting))))\n"
      ],
      "execution_count": null,
      "outputs": [
        {
          "output_type": "display_data",
          "data": {
            "text/plain": [
              "[1] 0.6415"
            ],
            "text/latex": "0.6415",
            "text/markdown": "0.6415",
            "text/html": [
              "0.6415"
            ]
          },
          "metadata": {
            "tags": []
          }
        },
        {
          "output_type": "display_data",
          "data": {
            "text/plain": [
              "[1] 8"
            ],
            "text/latex": "8",
            "text/markdown": "8",
            "text/html": [
              "8"
            ]
          },
          "metadata": {
            "tags": []
          }
        }
      ]
    },
    {
      "cell_type": "code",
      "metadata": {
        "colab": {
          "base_uri": "https://localhost:8080/",
          "height": 155
        },
        "id": "7TJMWbXbB2yz",
        "outputId": "b73f410e-3ec9-4cae-f2a7-9dae9c4f00fb"
      },
      "source": [
        "# comparación de las medidas de variación\n",
        "x = c(2, 4 ,8 ,9 ,11, 11, 12)\n",
        "\n",
        "median((abs(x-median(x))))\n",
        "var(x)\n",
        "sd(x)\n",
        "diff(quantile(x,c(.25,.75),type = 2))\n",
        "\n",
        "y =c(2, 4, 8, 9, 11, 11, 120) \n",
        "\n",
        "median((abs(y-median(y))))\n",
        "var(y)\n",
        "sd(y)\n",
        "diff(quantile(y,c(.25,.75),type = 2))\n"
      ],
      "execution_count": null,
      "outputs": [
        {
          "output_type": "display_data",
          "data": {
            "text/plain": [
              "[1] 2"
            ],
            "text/latex": "2",
            "text/markdown": "2",
            "text/html": [
              "2"
            ]
          },
          "metadata": {
            "tags": []
          }
        },
        {
          "output_type": "display_data",
          "data": {
            "text/plain": [
              "[1] 14.47619"
            ],
            "text/latex": "14.4761904761905",
            "text/markdown": "14.4761904761905",
            "text/html": [
              "14.4761904761905"
            ]
          },
          "metadata": {
            "tags": []
          }
        },
        {
          "output_type": "display_data",
          "data": {
            "text/plain": [
              "[1] 3.804759"
            ],
            "text/latex": "3.80475892484537",
            "text/markdown": "3.80475892484537",
            "text/html": [
              "3.80475892484537"
            ]
          },
          "metadata": {
            "tags": []
          }
        },
        {
          "output_type": "display_data",
          "data": {
            "text/plain": [
              "75% \n",
              "  7 "
            ],
            "text/latex": "\\textbf{75\\textbackslash{}\\%:} 7",
            "text/markdown": "**75%:** 7",
            "text/html": [
              "<strong>75%:</strong> 7"
            ]
          },
          "metadata": {
            "tags": []
          }
        },
        {
          "output_type": "display_data",
          "data": {
            "text/plain": [
              "[1] 2"
            ],
            "text/latex": "2",
            "text/markdown": "2",
            "text/html": [
              "2"
            ]
          },
          "metadata": {
            "tags": []
          }
        },
        {
          "output_type": "display_data",
          "data": {
            "text/plain": [
              "[1] 1819.619"
            ],
            "text/latex": "1819.61904761905",
            "text/markdown": "1819.61904761905",
            "text/html": [
              "1819.61904761905"
            ]
          },
          "metadata": {
            "tags": []
          }
        },
        {
          "output_type": "display_data",
          "data": {
            "text/plain": [
              "[1] 42.65699"
            ],
            "text/latex": "42.6569929509693",
            "text/markdown": "42.6569929509693",
            "text/html": [
              "42.6569929509693"
            ]
          },
          "metadata": {
            "tags": []
          }
        },
        {
          "output_type": "display_data",
          "data": {
            "text/plain": [
              "75% \n",
              "  7 "
            ],
            "text/latex": "\\textbf{75\\textbackslash{}\\%:} 7",
            "text/markdown": "**75%:** 7",
            "text/html": [
              "<strong>75%:</strong> 7"
            ]
          },
          "metadata": {
            "tags": []
          }
        }
      ]
    },
    {
      "cell_type": "code",
      "metadata": {
        "id": "6auzChvJ1wSR"
      },
      "source": [
        ""
      ],
      "execution_count": null,
      "outputs": []
    },
    {
      "cell_type": "markdown",
      "metadata": {
        "id": "0CpJEMBuJTn8"
      },
      "source": [
        "## Compartir Notebooks a través de GitHub\n",
        "\n",
        "[GitHub](github.com) es una plataforma de desarrollo colaborativo para alojar proyectos utilizando el sistema de control de versiones Git. Se utiliza principalmente para la creación de código fuente de programas de ordenador. \n",
        "\n",
        "En nuestro caso lo usaremos como un repositorio que nos permitirá compartir nuestras Notebooks con código de R y para crear una página web personal."
      ]
    },
    {
      "cell_type": "markdown",
      "metadata": {
        "id": "YcW9UVySLKaK"
      },
      "source": [
        "## Compartir Notebooks a través de GitHub\n",
        "\n",
        "[GitHub](github.com) es una plataforma de desarrollo colaborativo para alojar proyectos utilizando el sistema de control de versiones Git. Se utiliza principalmente para la creación de código fuente de programas de ordenador. \n",
        "\n",
        "En nuestro caso lo usaremos como un repositorio que nos permitirá compartir nuestras Notebooks con código de R y para crear una página web personal.\n",
        "Mucio Osorio Sanchez19:38\n",
        "[texto del vínculo](https://)Suponga que requiere compartir esta Notebook a través de GitHub.\n",
        "\n",
        "1. Iniciar sesión en GitHub\n",
        "\n",
        "![](https://github.com/mucioosorio/Diplomado-con-R.-Mayo-de-2021/blob/main/git1.JPG?raw=true)\n"
      ]
    },
    {
      "cell_type": "markdown",
      "metadata": {
        "id": "UMAYX9dXLinS"
      },
      "source": [
        "3. Escribir el nombre del repositorio y seleccionar si el repositorio será publico o privado (opcionalmente agregar el README file). Luego oprimir el botón de crear repositorio.\n",
        "\n",
        "![](https://github.com/mucioosorio/Diplomado-con-R.-Mayo-de-2021/blob/main/git3.JPG?raw=true)"
      ]
    },
    {
      "cell_type": "markdown",
      "metadata": {
        "id": "pMLUNZWiMns1"
      },
      "source": [
        "Ejemplo de un repositorio público:\n",
        "\n",
        "https://github.com/demar01/penguinsbox"
      ]
    },
    {
      "cell_type": "markdown",
      "metadata": {
        "id": "VFG8jQdGNJrO"
      },
      "source": [
        "5. Compartir la Notebook\n",
        "\n",
        "Seleccionr en el menú principal la opción **Archivo** y luego **Guardar una copia en GitHub**\n",
        "\n",
        "![](https://github.com/mucioosorio/Diplomado-con-R.-Mayo-de-2021/blob/main/git5.JPG?raw=true)"
      ]
    }
  ]
}